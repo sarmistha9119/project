{
 "cells": [
  {
   "cell_type": "code",
   "execution_count": 7,
   "id": "4a0dc4a3",
   "metadata": {},
   "outputs": [],
   "source": [
    "import pandas as pd\n",
    "pd.set_option('display.max_columns', 300)\n",
    "import numpy as np\n",
    "import matplotlib.pyplot as plt\n",
    "import seaborn as sns\n",
    "\n",
    "from  plotly.offline import iplot\n",
    "import warnings\n",
    "\n",
    "warnings.filterwarnings('ignore')\n",
    "%matplotlib inline"
   ]
  },
  {
   "cell_type": "code",
   "execution_count": null,
   "id": "a6304244",
   "metadata": {},
   "outputs": [],
   "source": []
  },
  {
   "cell_type": "code",
   "execution_count": 4,
   "id": "5a1b6190",
   "metadata": {},
   "outputs": [
    {
     "data": {
      "text/html": [
       "        <script type=\"text/javascript\">\n",
       "        window.PlotlyConfig = {MathJaxConfig: 'local'};\n",
       "        if (window.MathJax && window.MathJax.Hub && window.MathJax.Hub.Config) {window.MathJax.Hub.Config({SVG: {font: \"STIX-Web\"}});}\n",
       "        if (typeof require !== 'undefined') {\n",
       "        require.undef(\"plotly\");\n",
       "        requirejs.config({\n",
       "            paths: {\n",
       "                'plotly': ['https://cdn.plot.ly/plotly-2.12.1.min']\n",
       "            }\n",
       "        });\n",
       "        require(['plotly'], function(Plotly) {\n",
       "            window._Plotly = Plotly;\n",
       "        });\n",
       "        }\n",
       "        </script>\n",
       "        "
      ]
     },
     "metadata": {},
     "output_type": "display_data"
    },
    {
     "data": {
      "text/html": [
       "        <script type=\"text/javascript\">\n",
       "        window.PlotlyConfig = {MathJaxConfig: 'local'};\n",
       "        if (window.MathJax && window.MathJax.Hub && window.MathJax.Hub.Config) {window.MathJax.Hub.Config({SVG: {font: \"STIX-Web\"}});}\n",
       "        if (typeof require !== 'undefined') {\n",
       "        require.undef(\"plotly\");\n",
       "        requirejs.config({\n",
       "            paths: {\n",
       "                'plotly': ['https://cdn.plot.ly/plotly-2.12.1.min']\n",
       "            }\n",
       "        });\n",
       "        require(['plotly'], function(Plotly) {\n",
       "            window._Plotly = Plotly;\n",
       "        });\n",
       "        }\n",
       "        </script>\n",
       "        "
      ]
     },
     "metadata": {},
     "output_type": "display_data"
    }
   ],
   "source": [
    "py.offline.init_notebook_mode(connected=True)\n",
    "cf.go_offline()"
   ]
  },
  {
   "cell_type": "code",
   "execution_count": 9,
   "id": "0a18f43a",
   "metadata": {},
   "outputs": [
    {
     "data": {
      "text/plain": [
       "'C:\\\\Users\\\\Sarmistha'"
      ]
     },
     "execution_count": 9,
     "metadata": {},
     "output_type": "execute_result"
    }
   ],
   "source": [
    "pwd\n"
   ]
  },
  {
   "cell_type": "code",
   "execution_count": 11,
   "id": "2b5a2040",
   "metadata": {},
   "outputs": [
    {
     "name": "stdout",
     "output_type": "stream",
     "text": [
      "     POS             Player  Mat  Inns  NO  Runs    HS    Avg   BF      SR  \\\n",
      "0      1           KL Rahul   14    14   2   670  132*  55.83  518  129.34   \n",
      "1      2     Shikhar Dhawan   17    17   3   618  106*  44.14  427  144.73   \n",
      "2      3       David Warner   16    16   2   548   85*  39.14  407  134.64   \n",
      "3      4       Shreyas Iyer   17    17   2   519   88*  34.60  421  123.27   \n",
      "4      5       Ishan Kishan   14    13   4   516    99  57.33  354  145.76   \n",
      "..   ...                ...  ...   ...  ..   ...   ...    ...  ...     ...   \n",
      "128  129      Khaleel Ahmed    7     1   0     0    0*   0.00    2    0.00   \n",
      "129  130     Arshdeep Singh    8     1   0     0    0*   0.00    3    0.00   \n",
      "130  131        Daniel Sams    3     1   0     0    0*   0.00    2    0.00   \n",
      "131  132  Shreevats Goswami    2     2   0     0    0*   0.00    4    0.00   \n",
      "132  133        Trent Boult   15     1   0     0    0*   0.00    1    0.00   \n",
      "\n",
      "     100  50  4s  6s  \n",
      "0      1   5  58  23  \n",
      "1      2   4  67  12  \n",
      "2      0   4  52  14  \n",
      "3      0   3  40  16  \n",
      "4      0   4  36  30  \n",
      "..   ...  ..  ..  ..  \n",
      "128    0   0   0   0  \n",
      "129    0   0   0   0  \n",
      "130    0   0   0   0  \n",
      "131    0   0   0   0  \n",
      "132    0   0   0   0  \n",
      "\n",
      "[133 rows x 14 columns]\n"
     ]
    }
   ],
   "source": [
    "IPL=pd.read_csv('IPL_Dataset.csv')\n",
    "print(IPL)"
   ]
  },
  {
   "cell_type": "code",
   "execution_count": 12,
   "id": "27f3eed9",
   "metadata": {},
   "outputs": [
    {
     "data": {
      "text/html": [
       "<div>\n",
       "<style scoped>\n",
       "    .dataframe tbody tr th:only-of-type {\n",
       "        vertical-align: middle;\n",
       "    }\n",
       "\n",
       "    .dataframe tbody tr th {\n",
       "        vertical-align: top;\n",
       "    }\n",
       "\n",
       "    .dataframe thead th {\n",
       "        text-align: right;\n",
       "    }\n",
       "</style>\n",
       "<table border=\"1\" class=\"dataframe\">\n",
       "  <thead>\n",
       "    <tr style=\"text-align: right;\">\n",
       "      <th></th>\n",
       "      <th>Player</th>\n",
       "      <th>Avg</th>\n",
       "    </tr>\n",
       "  </thead>\n",
       "  <tbody>\n",
       "    <tr>\n",
       "      <th>57</th>\n",
       "      <td>Deepak Hooda</td>\n",
       "      <td>101.0</td>\n",
       "    </tr>\n",
       "  </tbody>\n",
       "</table>\n",
       "</div>"
      ],
      "text/plain": [
       "          Player    Avg\n",
       "57  Deepak Hooda  101.0"
      ]
     },
     "execution_count": 12,
     "metadata": {},
     "output_type": "execute_result"
    }
   ],
   "source": [
    "# What is the highest average of a player in a season?\n",
    "IPL.loc[IPL['Avg'] == IPL['Avg'].max()][['Player', 'Avg']]\n"
   ]
  },
  {
   "cell_type": "code",
   "execution_count": 14,
   "id": "35bd94b7",
   "metadata": {},
   "outputs": [
    {
     "data": {
      "text/html": [
       "<div>\n",
       "<style scoped>\n",
       "    .dataframe tbody tr th:only-of-type {\n",
       "        vertical-align: middle;\n",
       "    }\n",
       "\n",
       "    .dataframe tbody tr th {\n",
       "        vertical-align: top;\n",
       "    }\n",
       "\n",
       "    .dataframe thead th {\n",
       "        text-align: right;\n",
       "    }\n",
       "</style>\n",
       "<table border=\"1\" class=\"dataframe\">\n",
       "  <thead>\n",
       "    <tr style=\"text-align: right;\">\n",
       "      <th></th>\n",
       "      <th>Player</th>\n",
       "      <th>Mat</th>\n",
       "    </tr>\n",
       "  </thead>\n",
       "  <tbody>\n",
       "    <tr>\n",
       "      <th>1</th>\n",
       "      <td>Shikhar Dhawan</td>\n",
       "      <td>17</td>\n",
       "    </tr>\n",
       "    <tr>\n",
       "      <th>3</th>\n",
       "      <td>Shreyas Iyer</td>\n",
       "      <td>17</td>\n",
       "    </tr>\n",
       "    <tr>\n",
       "      <th>19</th>\n",
       "      <td>Marcus Stoinis</td>\n",
       "      <td>17</td>\n",
       "    </tr>\n",
       "    <tr>\n",
       "      <th>67</th>\n",
       "      <td>Kagiso Rabada</td>\n",
       "      <td>17</td>\n",
       "    </tr>\n",
       "  </tbody>\n",
       "</table>\n",
       "</div>"
      ],
      "text/plain": [
       "            Player  Mat\n",
       "1   Shikhar Dhawan   17\n",
       "3     Shreyas Iyer   17\n",
       "19  Marcus Stoinis   17\n",
       "67   Kagiso Rabada   17"
      ]
     },
     "execution_count": 14,
     "metadata": {},
     "output_type": "execute_result"
    }
   ],
   "source": [
    "# What is the maximum number of matches played by an individual player in a season?\n",
    "IPL.loc[IPL['Mat'] == IPL['Mat'].max()][['Player', 'Mat']]"
   ]
  },
  {
   "cell_type": "code",
   "execution_count": 15,
   "id": "cd883908",
   "metadata": {},
   "outputs": [
    {
     "data": {
      "text/plain": [
       "9.631578947368421"
      ]
     },
     "execution_count": 15,
     "metadata": {},
     "output_type": "execute_result"
    }
   ],
   "source": [
    "# What is the average number of matches played by the players in a season?\n",
    "IPL[\"Mat\"].mean()"
   ]
  },
  {
   "cell_type": "code",
   "execution_count": 16,
   "id": "b3783aff",
   "metadata": {},
   "outputs": [
    {
     "data": {
      "text/html": [
       "<div>\n",
       "<style scoped>\n",
       "    .dataframe tbody tr th:only-of-type {\n",
       "        vertical-align: middle;\n",
       "    }\n",
       "\n",
       "    .dataframe tbody tr th {\n",
       "        vertical-align: top;\n",
       "    }\n",
       "\n",
       "    .dataframe thead th {\n",
       "        text-align: right;\n",
       "    }\n",
       "</style>\n",
       "<table border=\"1\" class=\"dataframe\">\n",
       "  <thead>\n",
       "    <tr style=\"text-align: right;\">\n",
       "      <th></th>\n",
       "      <th>POS</th>\n",
       "      <th>Mat</th>\n",
       "      <th>Inns</th>\n",
       "      <th>NO</th>\n",
       "      <th>Runs</th>\n",
       "      <th>Avg</th>\n",
       "      <th>BF</th>\n",
       "      <th>SR</th>\n",
       "      <th>100</th>\n",
       "      <th>50</th>\n",
       "      <th>4s</th>\n",
       "      <th>6s</th>\n",
       "    </tr>\n",
       "  </thead>\n",
       "  <tbody>\n",
       "    <tr>\n",
       "      <th>POS</th>\n",
       "      <td>1.000000</td>\n",
       "      <td>-0.556695</td>\n",
       "      <td>-0.916174</td>\n",
       "      <td>-0.386247</td>\n",
       "      <td>-0.896664</td>\n",
       "      <td>-0.746510</td>\n",
       "      <td>-0.891969</td>\n",
       "      <td>-0.730489</td>\n",
       "      <td>-0.248353</td>\n",
       "      <td>-0.769577</td>\n",
       "      <td>-0.846965</td>\n",
       "      <td>-0.808756</td>\n",
       "    </tr>\n",
       "    <tr>\n",
       "      <th>Mat</th>\n",
       "      <td>-0.556695</td>\n",
       "      <td>1.000000</td>\n",
       "      <td>0.728358</td>\n",
       "      <td>0.555261</td>\n",
       "      <td>0.565237</td>\n",
       "      <td>0.306128</td>\n",
       "      <td>0.555102</td>\n",
       "      <td>0.371328</td>\n",
       "      <td>0.128405</td>\n",
       "      <td>0.455437</td>\n",
       "      <td>0.522628</td>\n",
       "      <td>0.523367</td>\n",
       "    </tr>\n",
       "    <tr>\n",
       "      <th>Inns</th>\n",
       "      <td>-0.916174</td>\n",
       "      <td>0.728358</td>\n",
       "      <td>1.000000</td>\n",
       "      <td>0.464356</td>\n",
       "      <td>0.895914</td>\n",
       "      <td>0.585148</td>\n",
       "      <td>0.889753</td>\n",
       "      <td>0.581468</td>\n",
       "      <td>0.224328</td>\n",
       "      <td>0.755027</td>\n",
       "      <td>0.846749</td>\n",
       "      <td>0.810922</td>\n",
       "    </tr>\n",
       "    <tr>\n",
       "      <th>NO</th>\n",
       "      <td>-0.386247</td>\n",
       "      <td>0.555261</td>\n",
       "      <td>0.464356</td>\n",
       "      <td>1.000000</td>\n",
       "      <td>0.308747</td>\n",
       "      <td>0.429888</td>\n",
       "      <td>0.271021</td>\n",
       "      <td>0.415060</td>\n",
       "      <td>0.019726</td>\n",
       "      <td>0.174184</td>\n",
       "      <td>0.204779</td>\n",
       "      <td>0.391472</td>\n",
       "    </tr>\n",
       "    <tr>\n",
       "      <th>Runs</th>\n",
       "      <td>-0.896664</td>\n",
       "      <td>0.565237</td>\n",
       "      <td>0.895914</td>\n",
       "      <td>0.308747</td>\n",
       "      <td>1.000000</td>\n",
       "      <td>0.687475</td>\n",
       "      <td>0.989948</td>\n",
       "      <td>0.517678</td>\n",
       "      <td>0.382577</td>\n",
       "      <td>0.912264</td>\n",
       "      <td>0.959576</td>\n",
       "      <td>0.861166</td>\n",
       "    </tr>\n",
       "    <tr>\n",
       "      <th>Avg</th>\n",
       "      <td>-0.746510</td>\n",
       "      <td>0.306128</td>\n",
       "      <td>0.585148</td>\n",
       "      <td>0.429888</td>\n",
       "      <td>0.687475</td>\n",
       "      <td>1.000000</td>\n",
       "      <td>0.664173</td>\n",
       "      <td>0.591306</td>\n",
       "      <td>0.233726</td>\n",
       "      <td>0.638326</td>\n",
       "      <td>0.623643</td>\n",
       "      <td>0.646224</td>\n",
       "    </tr>\n",
       "    <tr>\n",
       "      <th>BF</th>\n",
       "      <td>-0.891969</td>\n",
       "      <td>0.555102</td>\n",
       "      <td>0.889753</td>\n",
       "      <td>0.271021</td>\n",
       "      <td>0.989948</td>\n",
       "      <td>0.664173</td>\n",
       "      <td>1.000000</td>\n",
       "      <td>0.474226</td>\n",
       "      <td>0.358550</td>\n",
       "      <td>0.900547</td>\n",
       "      <td>0.955994</td>\n",
       "      <td>0.810916</td>\n",
       "    </tr>\n",
       "    <tr>\n",
       "      <th>SR</th>\n",
       "      <td>-0.730489</td>\n",
       "      <td>0.371328</td>\n",
       "      <td>0.581468</td>\n",
       "      <td>0.415060</td>\n",
       "      <td>0.517678</td>\n",
       "      <td>0.591306</td>\n",
       "      <td>0.474226</td>\n",
       "      <td>1.000000</td>\n",
       "      <td>0.135331</td>\n",
       "      <td>0.406029</td>\n",
       "      <td>0.465132</td>\n",
       "      <td>0.566317</td>\n",
       "    </tr>\n",
       "    <tr>\n",
       "      <th>100</th>\n",
       "      <td>-0.248353</td>\n",
       "      <td>0.128405</td>\n",
       "      <td>0.224328</td>\n",
       "      <td>0.019726</td>\n",
       "      <td>0.382577</td>\n",
       "      <td>0.233726</td>\n",
       "      <td>0.358550</td>\n",
       "      <td>0.135331</td>\n",
       "      <td>1.000000</td>\n",
       "      <td>0.292812</td>\n",
       "      <td>0.456622</td>\n",
       "      <td>0.186767</td>\n",
       "    </tr>\n",
       "    <tr>\n",
       "      <th>50</th>\n",
       "      <td>-0.769577</td>\n",
       "      <td>0.455437</td>\n",
       "      <td>0.755027</td>\n",
       "      <td>0.174184</td>\n",
       "      <td>0.912264</td>\n",
       "      <td>0.638326</td>\n",
       "      <td>0.900547</td>\n",
       "      <td>0.406029</td>\n",
       "      <td>0.292812</td>\n",
       "      <td>1.000000</td>\n",
       "      <td>0.892025</td>\n",
       "      <td>0.757501</td>\n",
       "    </tr>\n",
       "    <tr>\n",
       "      <th>4s</th>\n",
       "      <td>-0.846965</td>\n",
       "      <td>0.522628</td>\n",
       "      <td>0.846749</td>\n",
       "      <td>0.204779</td>\n",
       "      <td>0.959576</td>\n",
       "      <td>0.623643</td>\n",
       "      <td>0.955994</td>\n",
       "      <td>0.465132</td>\n",
       "      <td>0.456622</td>\n",
       "      <td>0.892025</td>\n",
       "      <td>1.000000</td>\n",
       "      <td>0.731094</td>\n",
       "    </tr>\n",
       "    <tr>\n",
       "      <th>6s</th>\n",
       "      <td>-0.808756</td>\n",
       "      <td>0.523367</td>\n",
       "      <td>0.810922</td>\n",
       "      <td>0.391472</td>\n",
       "      <td>0.861166</td>\n",
       "      <td>0.646224</td>\n",
       "      <td>0.810916</td>\n",
       "      <td>0.566317</td>\n",
       "      <td>0.186767</td>\n",
       "      <td>0.757501</td>\n",
       "      <td>0.731094</td>\n",
       "      <td>1.000000</td>\n",
       "    </tr>\n",
       "  </tbody>\n",
       "</table>\n",
       "</div>"
      ],
      "text/plain": [
       "           POS       Mat      Inns        NO      Runs       Avg        BF  \\\n",
       "POS   1.000000 -0.556695 -0.916174 -0.386247 -0.896664 -0.746510 -0.891969   \n",
       "Mat  -0.556695  1.000000  0.728358  0.555261  0.565237  0.306128  0.555102   \n",
       "Inns -0.916174  0.728358  1.000000  0.464356  0.895914  0.585148  0.889753   \n",
       "NO   -0.386247  0.555261  0.464356  1.000000  0.308747  0.429888  0.271021   \n",
       "Runs -0.896664  0.565237  0.895914  0.308747  1.000000  0.687475  0.989948   \n",
       "Avg  -0.746510  0.306128  0.585148  0.429888  0.687475  1.000000  0.664173   \n",
       "BF   -0.891969  0.555102  0.889753  0.271021  0.989948  0.664173  1.000000   \n",
       "SR   -0.730489  0.371328  0.581468  0.415060  0.517678  0.591306  0.474226   \n",
       "100  -0.248353  0.128405  0.224328  0.019726  0.382577  0.233726  0.358550   \n",
       "50   -0.769577  0.455437  0.755027  0.174184  0.912264  0.638326  0.900547   \n",
       "4s   -0.846965  0.522628  0.846749  0.204779  0.959576  0.623643  0.955994   \n",
       "6s   -0.808756  0.523367  0.810922  0.391472  0.861166  0.646224  0.810916   \n",
       "\n",
       "            SR       100        50        4s        6s  \n",
       "POS  -0.730489 -0.248353 -0.769577 -0.846965 -0.808756  \n",
       "Mat   0.371328  0.128405  0.455437  0.522628  0.523367  \n",
       "Inns  0.581468  0.224328  0.755027  0.846749  0.810922  \n",
       "NO    0.415060  0.019726  0.174184  0.204779  0.391472  \n",
       "Runs  0.517678  0.382577  0.912264  0.959576  0.861166  \n",
       "Avg   0.591306  0.233726  0.638326  0.623643  0.646224  \n",
       "BF    0.474226  0.358550  0.900547  0.955994  0.810916  \n",
       "SR    1.000000  0.135331  0.406029  0.465132  0.566317  \n",
       "100   0.135331  1.000000  0.292812  0.456622  0.186767  \n",
       "50    0.406029  0.292812  1.000000  0.892025  0.757501  \n",
       "4s    0.465132  0.456622  0.892025  1.000000  0.731094  \n",
       "6s    0.566317  0.186767  0.757501  0.731094  1.000000  "
      ]
     },
     "execution_count": 16,
     "metadata": {},
     "output_type": "execute_result"
    }
   ],
   "source": [
    "# Please check the correlation between all the features.\n",
    "IPL.corr()"
   ]
  },
  {
   "cell_type": "code",
   "execution_count": 17,
   "id": "1ada421b",
   "metadata": {},
   "outputs": [
    {
     "data": {
      "text/html": [
       "<div>\n",
       "<style scoped>\n",
       "    .dataframe tbody tr th:only-of-type {\n",
       "        vertical-align: middle;\n",
       "    }\n",
       "\n",
       "    .dataframe tbody tr th {\n",
       "        vertical-align: top;\n",
       "    }\n",
       "\n",
       "    .dataframe thead th {\n",
       "        text-align: right;\n",
       "    }\n",
       "</style>\n",
       "<table border=\"1\" class=\"dataframe\">\n",
       "  <thead>\n",
       "    <tr style=\"text-align: right;\">\n",
       "      <th></th>\n",
       "      <th>Player</th>\n",
       "      <th>Avg</th>\n",
       "      <th>SR</th>\n",
       "    </tr>\n",
       "  </thead>\n",
       "  <tbody>\n",
       "    <tr>\n",
       "      <th>0</th>\n",
       "      <td>KL Rahul</td>\n",
       "      <td>55.83</td>\n",
       "      <td>129.34</td>\n",
       "    </tr>\n",
       "    <tr>\n",
       "      <th>4</th>\n",
       "      <td>Ishan Kishan</td>\n",
       "      <td>57.33</td>\n",
       "      <td>145.76</td>\n",
       "    </tr>\n",
       "    <tr>\n",
       "      <th>31</th>\n",
       "      <td>Kieron Pollard</td>\n",
       "      <td>53.60</td>\n",
       "      <td>191.42</td>\n",
       "    </tr>\n",
       "    <tr>\n",
       "      <th>36</th>\n",
       "      <td>Wriddhiman Saha</td>\n",
       "      <td>71.33</td>\n",
       "      <td>139.86</td>\n",
       "    </tr>\n",
       "    <tr>\n",
       "      <th>37</th>\n",
       "      <td>Ruturaj Gaikwad</td>\n",
       "      <td>51.00</td>\n",
       "      <td>120.71</td>\n",
       "    </tr>\n",
       "    <tr>\n",
       "      <th>57</th>\n",
       "      <td>Deepak Hooda</td>\n",
       "      <td>101.00</td>\n",
       "      <td>142.25</td>\n",
       "    </tr>\n",
       "    <tr>\n",
       "      <th>60</th>\n",
       "      <td>Tom Curran</td>\n",
       "      <td>83.00</td>\n",
       "      <td>133.87</td>\n",
       "    </tr>\n",
       "  </tbody>\n",
       "</table>\n",
       "</div>"
      ],
      "text/plain": [
       "             Player     Avg      SR\n",
       "0          KL Rahul   55.83  129.34\n",
       "4      Ishan Kishan   57.33  145.76\n",
       "31   Kieron Pollard   53.60  191.42\n",
       "36  Wriddhiman Saha   71.33  139.86\n",
       "37  Ruturaj Gaikwad   51.00  120.71\n",
       "57     Deepak Hooda  101.00  142.25\n",
       "60       Tom Curran   83.00  133.87"
      ]
     },
     "execution_count": 17,
     "metadata": {},
     "output_type": "execute_result"
    }
   ],
   "source": [
    "# Check the list of players who has an average greater than 50 as well strike rate above 120.\n",
    "SR1=IPL[(IPL['Avg'] >50) & (IPL['SR'] > 120)][['Player','Avg','SR']]\n",
    "SR1"
   ]
  },
  {
   "cell_type": "code",
   "execution_count": 18,
   "id": "a65097d1",
   "metadata": {},
   "outputs": [
    {
     "data": {
      "text/html": [
       "<div>\n",
       "<style scoped>\n",
       "    .dataframe tbody tr th:only-of-type {\n",
       "        vertical-align: middle;\n",
       "    }\n",
       "\n",
       "    .dataframe tbody tr th {\n",
       "        vertical-align: top;\n",
       "    }\n",
       "\n",
       "    .dataframe thead th {\n",
       "        text-align: right;\n",
       "    }\n",
       "</style>\n",
       "<table border=\"1\" class=\"dataframe\">\n",
       "  <thead>\n",
       "    <tr style=\"text-align: right;\">\n",
       "      <th></th>\n",
       "      <th>Player</th>\n",
       "      <th>Avg</th>\n",
       "      <th>BF</th>\n",
       "    </tr>\n",
       "  </thead>\n",
       "  <tbody>\n",
       "    <tr>\n",
       "      <th>0</th>\n",
       "      <td>KL Rahul</td>\n",
       "      <td>55.83</td>\n",
       "      <td>518</td>\n",
       "    </tr>\n",
       "    <tr>\n",
       "      <th>1</th>\n",
       "      <td>Shikhar Dhawan</td>\n",
       "      <td>44.14</td>\n",
       "      <td>427</td>\n",
       "    </tr>\n",
       "    <tr>\n",
       "      <th>4</th>\n",
       "      <td>Ishan Kishan</td>\n",
       "      <td>57.33</td>\n",
       "      <td>354</td>\n",
       "    </tr>\n",
       "    <tr>\n",
       "      <th>8</th>\n",
       "      <td>Virat Kohli</td>\n",
       "      <td>42.36</td>\n",
       "      <td>384</td>\n",
       "    </tr>\n",
       "    <tr>\n",
       "      <th>9</th>\n",
       "      <td>AB de Villiers</td>\n",
       "      <td>45.40</td>\n",
       "      <td>286</td>\n",
       "    </tr>\n",
       "    <tr>\n",
       "      <th>10</th>\n",
       "      <td>Faf du Plessis</td>\n",
       "      <td>40.81</td>\n",
       "      <td>319</td>\n",
       "    </tr>\n",
       "    <tr>\n",
       "      <th>14</th>\n",
       "      <td>Eoin Morgan</td>\n",
       "      <td>41.80</td>\n",
       "      <td>302</td>\n",
       "    </tr>\n",
       "    <tr>\n",
       "      <th>24</th>\n",
       "      <td>Kane Williamson</td>\n",
       "      <td>45.28</td>\n",
       "      <td>237</td>\n",
       "    </tr>\n",
       "    <tr>\n",
       "      <th>27</th>\n",
       "      <td>Chris Gayle</td>\n",
       "      <td>41.14</td>\n",
       "      <td>210</td>\n",
       "    </tr>\n",
       "    <tr>\n",
       "      <th>28</th>\n",
       "      <td>Ben Stokes</td>\n",
       "      <td>40.71</td>\n",
       "      <td>200</td>\n",
       "    </tr>\n",
       "    <tr>\n",
       "      <th>31</th>\n",
       "      <td>Kieron Pollard</td>\n",
       "      <td>53.60</td>\n",
       "      <td>140</td>\n",
       "    </tr>\n",
       "    <tr>\n",
       "      <th>32</th>\n",
       "      <td>Rahul Tewatia</td>\n",
       "      <td>42.50</td>\n",
       "      <td>183</td>\n",
       "    </tr>\n",
       "    <tr>\n",
       "      <th>33</th>\n",
       "      <td>Ravindra Jadeja</td>\n",
       "      <td>46.40</td>\n",
       "      <td>135</td>\n",
       "    </tr>\n",
       "    <tr>\n",
       "      <th>36</th>\n",
       "      <td>Wriddhiman Saha</td>\n",
       "      <td>71.33</td>\n",
       "      <td>153</td>\n",
       "    </tr>\n",
       "    <tr>\n",
       "      <th>37</th>\n",
       "      <td>Ruturaj Gaikwad</td>\n",
       "      <td>51.00</td>\n",
       "      <td>169</td>\n",
       "    </tr>\n",
       "  </tbody>\n",
       "</table>\n",
       "</div>"
      ],
      "text/plain": [
       "             Player    Avg   BF\n",
       "0          KL Rahul  55.83  518\n",
       "1    Shikhar Dhawan  44.14  427\n",
       "4      Ishan Kishan  57.33  354\n",
       "8       Virat Kohli  42.36  384\n",
       "9    AB de Villiers  45.40  286\n",
       "10   Faf du Plessis  40.81  319\n",
       "14      Eoin Morgan  41.80  302\n",
       "24  Kane Williamson  45.28  237\n",
       "27      Chris Gayle  41.14  210\n",
       "28       Ben Stokes  40.71  200\n",
       "31   Kieron Pollard  53.60  140\n",
       "32    Rahul Tewatia  42.50  183\n",
       "33  Ravindra Jadeja  46.40  135\n",
       "36  Wriddhiman Saha  71.33  153\n",
       "37  Ruturaj Gaikwad  51.00  169"
      ]
     },
     "execution_count": 18,
     "metadata": {},
     "output_type": "execute_result"
    }
   ],
   "source": [
    "# Please check the list of players who has an average greater than 40 and balls faced above 100.\n",
    "BF1=IPL[(IPL['Avg'] >40) & (IPL['BF'] > 100)][['Player','Avg','BF']]\n",
    "\n",
    "BF1"
   ]
  },
  {
   "cell_type": "code",
   "execution_count": 20,
   "id": "a4e1f324",
   "metadata": {},
   "outputs": [
    {
     "data": {
      "text/html": [
       "<div>\n",
       "<style scoped>\n",
       "    .dataframe tbody tr th:only-of-type {\n",
       "        vertical-align: middle;\n",
       "    }\n",
       "\n",
       "    .dataframe tbody tr th {\n",
       "        vertical-align: top;\n",
       "    }\n",
       "\n",
       "    .dataframe thead th {\n",
       "        text-align: right;\n",
       "    }\n",
       "</style>\n",
       "<table border=\"1\" class=\"dataframe\">\n",
       "  <thead>\n",
       "    <tr style=\"text-align: right;\">\n",
       "      <th></th>\n",
       "      <th>Player</th>\n",
       "      <th>Runs</th>\n",
       "      <th>Avg</th>\n",
       "      <th>SR</th>\n",
       "    </tr>\n",
       "  </thead>\n",
       "  <tbody>\n",
       "    <tr>\n",
       "      <th>4</th>\n",
       "      <td>Ishan Kishan</td>\n",
       "      <td>516</td>\n",
       "      <td>57.33</td>\n",
       "      <td>145.76</td>\n",
       "    </tr>\n",
       "    <tr>\n",
       "      <th>9</th>\n",
       "      <td>AB de Villiers</td>\n",
       "      <td>454</td>\n",
       "      <td>45.40</td>\n",
       "      <td>158.74</td>\n",
       "    </tr>\n",
       "    <tr>\n",
       "      <th>24</th>\n",
       "      <td>Kane Williamson</td>\n",
       "      <td>317</td>\n",
       "      <td>45.28</td>\n",
       "      <td>133.75</td>\n",
       "    </tr>\n",
       "  </tbody>\n",
       "</table>\n",
       "</div>"
      ],
      "text/plain": [
       "             Player  Runs    Avg      SR\n",
       "4      Ishan Kishan   516  57.33  145.76\n",
       "9    AB de Villiers   454  45.40  158.74\n",
       "24  Kane Williamson   317  45.28  133.75"
      ]
     },
     "execution_count": 20,
     "metadata": {},
     "output_type": "execute_result"
    }
   ],
   "source": [
    "# Please check the list of players who scored more than 300 runs with an average greater than 45 & strike rate above 130.\n",
    "Runs=IPL[(IPL['Runs'] >300) & (IPL['Avg'] > 45) & (IPL['SR'] >130) ][['Player','Runs','Avg','SR']]\n",
    "Runs"
   ]
  },
  {
   "cell_type": "code",
   "execution_count": 21,
   "id": "1d6fa9eb",
   "metadata": {},
   "outputs": [
    {
     "data": {
      "text/html": [
       "<div>\n",
       "<style scoped>\n",
       "    .dataframe tbody tr th:only-of-type {\n",
       "        vertical-align: middle;\n",
       "    }\n",
       "\n",
       "    .dataframe tbody tr th {\n",
       "        vertical-align: top;\n",
       "    }\n",
       "\n",
       "    .dataframe thead th {\n",
       "        text-align: right;\n",
       "    }\n",
       "</style>\n",
       "<table border=\"1\" class=\"dataframe\">\n",
       "  <thead>\n",
       "    <tr style=\"text-align: right;\">\n",
       "      <th></th>\n",
       "      <th>Player</th>\n",
       "      <th>100</th>\n",
       "    </tr>\n",
       "  </thead>\n",
       "  <tbody>\n",
       "    <tr>\n",
       "      <th>0</th>\n",
       "      <td>KL Rahul</td>\n",
       "      <td>1</td>\n",
       "    </tr>\n",
       "    <tr>\n",
       "      <th>1</th>\n",
       "      <td>Shikhar Dhawan</td>\n",
       "      <td>2</td>\n",
       "    </tr>\n",
       "    <tr>\n",
       "      <th>13</th>\n",
       "      <td>Mayank Agarwal</td>\n",
       "      <td>1</td>\n",
       "    </tr>\n",
       "    <tr>\n",
       "      <th>28</th>\n",
       "      <td>Ben Stokes</td>\n",
       "      <td>1</td>\n",
       "    </tr>\n",
       "  </tbody>\n",
       "</table>\n",
       "</div>"
      ],
      "text/plain": [
       "            Player  100\n",
       "0         KL Rahul    1\n",
       "1   Shikhar Dhawan    2\n",
       "13  Mayank Agarwal    1\n",
       "28      Ben Stokes    1"
      ]
     },
     "execution_count": 21,
     "metadata": {},
     "output_type": "execute_result"
    }
   ],
   "source": [
    "# Players who scored alteast one century in this season.\n",
    "Century=IPL[(IPL['100'] >=1) ][['Player','100']]\n",
    "Century"
   ]
  },
  {
   "cell_type": "code",
   "execution_count": 22,
   "id": "8f530f19",
   "metadata": {},
   "outputs": [
    {
     "name": "stdout",
     "output_type": "stream",
     "text": [
      "              Player  50\n",
      "0           KL Rahul   5\n",
      "1     Shikhar Dhawan   4\n",
      "2       David Warner   4\n",
      "4       Ishan Kishan   4\n",
      "5    Quinton de Kock   4\n",
      "6   Suryakumar Yadav   4\n",
      "7   Devdutt Padikkal   5\n",
      "9     AB de Villiers   5\n",
      "10    Faf du Plessis   4\n"
     ]
    }
   ],
   "source": [
    "# Players who scored atleast 4 half centuries in this season.\n",
    "HalfCentury=IPL[(IPL['50'] >=4) ][['Player','50']]\n",
    "\n",
    "HalfCentury.reset_index\n",
    "print(HalfCentury)"
   ]
  },
  {
   "cell_type": "code",
   "execution_count": 23,
   "id": "fd2cbdeb",
   "metadata": {},
   "outputs": [
    {
     "data": {
      "text/html": [
       "<div>\n",
       "<style scoped>\n",
       "    .dataframe tbody tr th:only-of-type {\n",
       "        vertical-align: middle;\n",
       "    }\n",
       "\n",
       "    .dataframe tbody tr th {\n",
       "        vertical-align: top;\n",
       "    }\n",
       "\n",
       "    .dataframe thead th {\n",
       "        text-align: right;\n",
       "    }\n",
       "</style>\n",
       "<table border=\"1\" class=\"dataframe\">\n",
       "  <thead>\n",
       "    <tr style=\"text-align: right;\">\n",
       "      <th></th>\n",
       "      <th>Player</th>\n",
       "      <th>4s</th>\n",
       "      <th>6s</th>\n",
       "    </tr>\n",
       "  </thead>\n",
       "  <tbody>\n",
       "    <tr>\n",
       "      <th>0</th>\n",
       "      <td>KL Rahul</td>\n",
       "      <td>58</td>\n",
       "      <td>23</td>\n",
       "    </tr>\n",
       "    <tr>\n",
       "      <th>5</th>\n",
       "      <td>Quinton de Kock</td>\n",
       "      <td>46</td>\n",
       "      <td>22</td>\n",
       "    </tr>\n",
       "    <tr>\n",
       "      <th>2</th>\n",
       "      <td>David Warner</td>\n",
       "      <td>52</td>\n",
       "      <td>14</td>\n",
       "    </tr>\n",
       "    <tr>\n",
       "      <th>1</th>\n",
       "      <td>Shikhar Dhawan</td>\n",
       "      <td>67</td>\n",
       "      <td>12</td>\n",
       "    </tr>\n",
       "    <tr>\n",
       "      <th>6</th>\n",
       "      <td>Suryakumar Yadav</td>\n",
       "      <td>61</td>\n",
       "      <td>11</td>\n",
       "    </tr>\n",
       "  </tbody>\n",
       "</table>\n",
       "</div>"
      ],
      "text/plain": [
       "             Player  4s  6s\n",
       "0          KL Rahul  58  23\n",
       "5   Quinton de Kock  46  22\n",
       "2      David Warner  52  14\n",
       "1    Shikhar Dhawan  67  12\n",
       "6  Suryakumar Yadav  61  11"
      ]
     },
     "execution_count": 23,
     "metadata": {},
     "output_type": "execute_result"
    }
   ],
   "source": [
    "# Check the list of players who hit more than 45 boundARIES and more than 10 sixes in this season.\n",
    "Boundaries=IPL[(IPL['4s'] >45) &(IPL['6s']>10) ][['Player','4s','6s']]\n",
    "Sixes=Boundaries.sort_values('6s',ascending=False)\n",
    "Sixes"
   ]
  },
  {
   "cell_type": "code",
   "execution_count": 16,
   "id": "ddfe8296",
   "metadata": {},
   "outputs": [
    {
     "data": {
      "text/plain": [
       "Text(0.5, 1.0, 'Number of matches played in a season')"
      ]
     },
     "execution_count": 16,
     "metadata": {},
     "output_type": "execute_result"
    },
    {
     "data": {
      "image/png": "[encoded data removed]",
      "text/plain": [
       "<Figure size 640x480 with 1 Axes>"
      ]
     },
     "metadata": {},
     "output_type": "display_data"
    }
   ],
   "source": [
    "# Plot a histogram of number of matches played in a season by players.\n",
    "plt.hist(IPL['Mat'],bins=5,histtype='bar',edgecolor='yellow')\n",
    "plt.xlabel('Matches')\n",
    "plt.ylabel('Number of players')\n",
    "plt.title('Number of matches played in a season')"
   ]
  },
  {
   "cell_type": "code",
   "execution_count": 18,
   "id": "58a6a680",
   "metadata": {},
   "outputs": [
    {
     "data": {
      "text/plain": [
       "Text(0, 0.5, 'Player')"
      ]
     },
     "execution_count": 18,
     "metadata": {},
     "output_type": "execute_result"
    },
    {
     "data": {
      "image/png": "[encoded data removed]",
      "text/plain": [
       "<Figure size 640x480 with 1 Axes>"
      ]
     },
     "metadata": {},
     "output_type": "display_data"
    }
   ],
   "source": [
    "# Plot the histogram of balls faced by players.\n",
    "plt.hist(IPL['BF'],bins=5,histtype='bar',edgecolor='yellow')\n",
    "\n",
    "plt.xlabel('Balls Faced')\n",
    "plt.ylabel('Player')"
   ]
  },
  {
   "cell_type": "code",
   "execution_count": 26,
   "id": "b5f196a9",
   "metadata": {},
   "outputs": [
    {
     "name": "stdout",
     "output_type": "stream",
     "text": [
      "              Player  Runs\n",
      "0           KL Rahul   670\n",
      "1     Shikhar Dhawan   618\n",
      "2       David Warner   548\n",
      "3       Shreyas Iyer   519\n",
      "4       Ishan Kishan   516\n",
      "5    Quinton de Kock   503\n",
      "6   Suryakumar Yadav   480\n",
      "7   Devdutt Padikkal   473\n",
      "8        Virat Kohli   466\n",
      "9     AB de Villiers   454\n",
      "10    Faf du Plessis   449\n",
      "11      Shubman Gill   440\n",
      "12     Manish Pandey   425\n",
      "13    Mayank Agarwal   424\n",
      "14       Eoin Morgan   418\n",
      "15      Sanju Samson   375\n",
      "16     Ambati Rayudu   359\n",
      "17   Nicholas Pooran   353\n",
      "18       Nitish Rana   352\n",
      "19    Marcus Stoinis   352\n"
     ]
    }
   ],
   "source": [
    "# Top 20 players with most runs in a season.\n",
    "top_20_players = IPL.sort_values('Runs',ascending=False)\n",
    "print(top_20_players[['Player','Runs']].head(20))"
   ]
  },
  {
   "cell_type": "code",
   "execution_count": 67,
   "id": "f68e7ec1",
   "metadata": {},
   "outputs": [
    {
     "data": {
      "image/png": "[encoded data removed]",
      "text/plain": [
       "<Figure size 640x480 with 1 Axes>"
      ]
     },
     "metadata": {},
     "output_type": "display_data"
    }
   ],
   "source": [
    "#Bar chart for top 20 players with best strike rate in a season.\n",
    "SR2 = IPL.nlargest\n",
    "(n=20, columns=['SR'])\n",
    "SR2 = SR2[['Player', 'SR']]\n",
    "\n",
    "plt.bar(SR2['Player'], SR2['SR'], width=bar_width)\n",
    "plt.xlabel('Player')\n",
    "plt.ylabel('Strike Rate (SR)')\n",
    "plt.title('Top 20 IPL Players by Strike Rate')\n",
    "plt.xticks(rotation=90)\n",
    "for player, sr in zip(SR2['Player'], SR2['SR']):\n",
    "    plt.text(player, sr + 0.5, str(sr), ha='center', va='bottom', fontsize=8, rotation=45)\n",
    "plt.show()\n",
    "\n",
    "\n",
    "\n",
    "\n"
   ]
  },
  {
   "cell_type": "code",
   "execution_count": 24,
   "id": "b7947e86",
   "metadata": {},
   "outputs": [
    {
     "name": "stdout",
     "output_type": "stream",
     "text": [
      "              Player  6s\n",
      "4       Ishan Kishan  30\n",
      "15      Sanju Samson  26\n",
      "29     Hardik Pandya  25\n",
      "17   Nicholas Pooran  25\n",
      "14       Eoin Morgan  24\n",
      "9     AB de Villiers  23\n",
      "27       Chris Gayle  23\n",
      "0           KL Rahul  23\n",
      "31    Kieron Pollard  22\n",
      "5    Quinton de Kock  22\n",
      "22      Rohit Sharma  19\n",
      "12     Manish Pandey  18\n",
      "32     Rahul Tewatia  17\n",
      "3       Shreyas Iyer  16\n",
      "23       Jos Buttler  16\n",
      "19    Marcus Stoinis  16\n",
      "13    Mayank Agarwal  15\n",
      "10    Faf du Plessis  14\n",
      "2       David Warner  14\n",
      "20    Jonny Bairstow  13\n",
      "26      Shane Watson  13\n",
      "40        Sam Curran  12\n",
      "18       Nitish Rana  12\n",
      "16     Ambati Rayudu  12\n",
      "41   Shimron Hetmyer  12\n",
      "1     Shikhar Dhawan  12\n",
      "8        Virat Kohli  11\n",
      "33   Ravindra Jadeja  11\n",
      "6   Suryakumar Yadav  11\n",
      "24   Kane Williamson  10\n"
     ]
    }
   ],
   "source": [
    "# Top 30 players with highest number of sixes.\n",
    "top_30_players = IPL.sort_values('6s',ascending=False)\n",
    "print(top_30_players[['Player','6s']].head(30))\n"
   ]
  },
  {
   "cell_type": "code",
   "execution_count": 25,
   "id": "5225f8c7",
   "metadata": {},
   "outputs": [
    {
     "data": {
      "text/plain": [
       "<Axes: xlabel='BF', ylabel='Runs'>"
      ]
     },
     "execution_count": 25,
     "metadata": {},
     "output_type": "execute_result"
    },
    {
     "data": {
      "image/png": "[encoded data removed]",
      "text/plain": [
       "<Figure size 640x480 with 1 Axes>"
      ]
     },
     "metadata": {},
     "output_type": "display_data"
    }
   ],
   "source": [
    "# Scatter plot of runs scored by a player v/s balls faced in a season.\n",
    "sns.scatterplot(x=IPL['BF'], y=IPL['Runs'])"
   ]
  },
  {
   "cell_type": "code",
   "execution_count": 16,
   "id": "bc28f545",
   "metadata": {},
   "outputs": [
    {
     "data": {
      "text/plain": [
       "Text(0.5, 1.0, 'KDE Plot for averages on a season')"
      ]
     },
     "execution_count": 16,
     "metadata": {},
     "output_type": "execute_result"
    },
    {
     "data": {
      "image/png": "[encoded data removed]",
      "text/plain": [
       "<Figure size 640x480 with 1 Axes>"
      ]
     },
     "metadata": {},
     "output_type": "display_data"
    }
   ],
   "source": [
    "# KDE plot for averages on a season.\n",
    "sns.kdeplot(data=IPL, x=\"Avg\")\n",
    "plt.xlabel('Average')\n",
    "plt.ylabel('Density')\n",
    "plt.title('KDE Plot for averages on a season')"
   ]
  }
 ],
 "metadata": {
  "kernelspec": {
   "display_name": "Python 3 (ipykernel)",
   "language": "python",
   "name": "python3"
  },
  "language_info": {
   "codemirror_mode": {
    "name": "ipython",
    "version": 3
   },
   "file_extension": ".py",
   "mimetype": "text/x-python",
   "name": "python",
   "nbconvert_exporter": "python",
   "pygments_lexer": "ipython3",
   "version": "3.10.9"
  }
 },
 "nbformat": 4,
 "nbformat_minor": 5
}
